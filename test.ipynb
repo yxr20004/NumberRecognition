{
 "cells": [
  {
   "cell_type": "code",
   "execution_count": 1,
   "metadata": {
    "collapsed": true
   },
   "outputs": [],
   "source": [
    "import tensorflow as tf\n",
    "import numpy as np\n",
    "import time\n",
    "import sys\n",
    "import pandas as pd\n",
    "import matplotlib.pyplot as plt\n",
    "import scipy\n",
    "import math\n",
    "import cv2\n",
    "import pandas as pd\n",
    "from sklearn.utils import shuffle\n",
    "from tensorflow.python.platform import gfile\n",
    "from tensorflow.python.framework import graph_util\n",
    "from PIL import Image"
   ]
  },
  {
   "cell_type": "code",
   "execution_count": 2,
   "metadata": {
    "collapsed": true
   },
   "outputs": [],
   "source": [
    "w = 60#360\n",
    "h = 80#178\n",
    "ws = 150\n",
    "hs = 49\n",
    "box  = [\n",
    "    [ws,hs+1353, w, h],\n",
    "    [ws,hs+1531, w, h],\n",
    "    [ws,hs+1711, w, h],\n",
    "#     [ws,hs+1888, w, h],\n",
    "    \n",
    "    [ws+361,hs+1353, w, h],\n",
    "    [ws+361,hs+1531, w, h],\n",
    "    [ws+361,hs+1711, w, h],\n",
    "    [ws+361,hs+1888, w, h],\n",
    "    \n",
    "    [ws+721,hs+1353, w, h],\n",
    "    [ws+721,hs+1531, w, h],\n",
    "    [ws+721,hs+1711, w, h],\n",
    "#     [ws+721,hs+1888, w, h],\n",
    "]\n",
    "\n",
    "def get_image(filename):\n",
    "    image = tf.image.decode_jpeg(tf.read_file(filename), channels=1)\n",
    "    with tf.Session() as sess:\n",
    "        d = image.eval()\n",
    "        ss = d.reshape(-1, w*h)\n",
    "#         print(ss.shape)\n",
    "#         img_string = ' '.join(str(s) for s in ss[0])\n",
    "    return ss\n",
    "\n",
    "def getNumImg(name):\n",
    "    img = Image.open(name)\n",
    "    data_list = []\n",
    "    for i in range(len(box)):\n",
    "        b = (box[i][0], box[i][1], box[i][0]+box[i][2], box[i][1]+box[i][3])\n",
    "        roi = img.crop(b)\n",
    "#         print(type(roi))\n",
    "        roi.save('tmp.png')\n",
    "        d = get_image('tmp.png')\n",
    "        d = d/255.0\n",
    "#         tf.cast(d, tf.float32)\n",
    "        ss = d.reshape(w*h,1)\n",
    "#         image_val = tf.concat(0,ss)\n",
    "        data_list.append(ss)\n",
    "    X = np.vstack(data_list)\n",
    "    X = X.reshape(-1, w*h, 1)\n",
    "    \n",
    "    return X"
   ]
  },
  {
   "cell_type": "code",
   "execution_count": null,
   "metadata": {},
   "outputs": [],
   "source": []
  },
  {
   "cell_type": "code",
   "execution_count": 3,
   "metadata": {},
   "outputs": [],
   "source": [
    "def getNum(fileName):\n",
    "    \n",
    "    test_list = getNumImg(fileName)\n",
    "    name_str = [\n",
    "        '数字0',\n",
    "        '数字1',\n",
    "        '数字2',\n",
    "        '数字3',\n",
    "        '数字4',\n",
    "        '数字5',\n",
    "        '数字6',\n",
    "        '数字7',\n",
    "        '数字8',\n",
    "        '数字9',\n",
    "        ]\n",
    "    num_label = []\n",
    "    with tf.gfile.FastGFile('./num.pb', 'rb') as f:\n",
    "            graph_def = tf.GraphDef()\n",
    "            graph_def.ParseFromString(f.read())\n",
    "            tf.import_graph_def(graph_def, name='')\n",
    "    with tf.Session() as sess:\n",
    "    #     with open('./num.pb','rb') as f:\n",
    "    #         graph_def = tf.GraphDef()\n",
    "    #         graph_def.ParseFromString(f.read()) \n",
    "        out_tensor_name = 'layer/out/p/output:0'\n",
    "        out_data_tensor = sess.graph.get_tensor_by_name(out_tensor_name)\n",
    "\n",
    "\n",
    "        batch_xs = test_list[0:10,...]\n",
    "        batch_xs = batch_xs.reshape(-1, w*h)\n",
    "\n",
    "        data_tensor = sess.run(out_data_tensor,{'input/x:0':batch_xs,'input/k:0':1.0})\n",
    "    #         tf.cast(batch_xs, tf.float64)\n",
    "    #     output = tf.import_graph_def(graph_def, input_map={'input/x:0':batch_xs, 'input/k':1.0}, return_elements=['layer/out/p/output:0'], name='a')\n",
    "    #         output = tf.import_graph_def(graph_def, input_map={'layer/p/dense:0':batch_xs, 'input/k':1.0}, return_elements=['layer/out/p/output:0'], name='a') \n",
    "    #     out = sess.run(output)\n",
    "    #     print(out)\n",
    "    #     print(data_tensor)\n",
    "        for i in range(10):\n",
    "            predictions = np.squeeze(data_tensor[i])\n",
    "            top_k = predictions.argsort()[-1:][::-1]\n",
    "            for node_id in top_k:     \n",
    "                score = predictions[node_id]\n",
    "                num_label.append(node_id)\n",
    "        #         print(score)\n",
    "                print('位置 %s %s (识别概率：%.5f)' % (i,name_str[int(node_id)], score))\n",
    "#             print()\n",
    "    return num_label"
   ]
  },
  {
   "cell_type": "code",
   "execution_count": 4,
   "metadata": {},
   "outputs": [
    {
     "name": "stdout",
     "output_type": "stream",
     "text": [
      "位置 0 数字8 (识别概率：0.93569)\n",
      "位置 1 数字1 (识别概率：0.99989)\n",
      "位置 2 数字0 (识别概率：0.99853)\n",
      "位置 3 数字6 (识别概率：0.99994)\n",
      "位置 4 数字7 (识别概率：0.99987)\n",
      "位置 5 数字9 (识别概率：0.99979)\n",
      "位置 6 数字2 (识别概率：0.93746)\n",
      "位置 7 数字5 (识别概率：0.99293)\n",
      "位置 8 数字4 (识别概率：0.99955)\n",
      "位置 9 数字3 (识别概率：0.98886)\n",
      "[8, 1, 0, 6, 7, 9, 2, 5, 4, 3]\n"
     ]
    }
   ],
   "source": [
    "num = getNum('images/003.png')\n",
    "print(num)"
   ]
  },
  {
   "cell_type": "code",
   "execution_count": 5,
   "metadata": {},
   "outputs": [
    {
     "name": "stdout",
     "output_type": "stream",
     "text": [
      "位置 0 数字4 (识别概率：0.99983)\n",
      "位置 1 数字8 (识别概率：0.97521)\n",
      "位置 2 数字3 (识别概率：0.98526)\n",
      "位置 3 数字0 (识别概率：0.99030)\n",
      "位置 4 数字9 (识别概率：0.99791)\n",
      "位置 5 数字2 (识别概率：0.99923)\n",
      "位置 6 数字7 (识别概率：0.99950)\n",
      "位置 7 数字5 (识别概率：0.99293)\n",
      "位置 8 数字1 (识别概率：0.99994)\n",
      "位置 9 数字6 (识别概率：0.99994)\n",
      "[4, 8, 3, 0, 9, 2, 7, 5, 1, 6]\n"
     ]
    }
   ],
   "source": [
    "num = getNum('images/015.png')\n",
    "print(num)"
   ]
  },
  {
   "cell_type": "code",
   "execution_count": null,
   "metadata": {
    "collapsed": true
   },
   "outputs": [],
   "source": [
    "位置 0 数字8 (识别概率：0.99684)\n",
    "位置 1 数字1 (识别概率：0.99997)\n",
    "位置 2 数字9 (识别概率：0.82950)\n",
    "位置 3 数字6 (识别概率：0.54548)\n",
    "位置 4 数字7 (识别概率：0.99937)\n",
    "位置 5 数字9 (识别概率：0.99996)\n",
    "位置 6 数字2 (识别概率：0.33494)\n",
    "位置 7 数字5 (识别概率：0.96579)\n",
    "位置 8 数字4 (识别概率：0.99874)\n",
    "位置 9 数字3 (识别概率：0.99987)\n",
    "[8, 1, 9, 6, 7, 9, 2, 5, 4, 3]\n",
    "\n",
    "位置 0 数字4 (识别概率：0.99677)\n",
    "位置 1 数字6 (识别概率：0.72714)\n",
    "位置 2 数字3 (识别概率：0.99553)\n",
    "位置 3 数字9 (识别概率：0.77154)\n",
    "位置 4 数字9 (识别概率：0.96354)\n",
    "位置 5 数字2 (识别概率：0.99974)\n",
    "位置 6 数字7 (识别概率：0.99316)\n",
    "位置 7 数字5 (识别概率：0.96579)\n",
    "位置 8 数字1 (识别概率：0.99993)\n",
    "位置 9 数字6 (识别概率：0.54596)\n",
    "[4, 6, 3, 9, 9, 2, 7, 5, 1, 6]"
   ]
  }
 ],
 "metadata": {
  "kernelspec": {
   "display_name": "Python 3",
   "language": "python",
   "name": "python3"
  },
  "language_info": {
   "codemirror_mode": {
    "name": "ipython",
    "version": 3
   },
   "file_extension": ".py",
   "mimetype": "text/x-python",
   "name": "python",
   "nbconvert_exporter": "python",
   "pygments_lexer": "ipython3",
   "version": "3.6.3"
  }
 },
 "nbformat": 4,
 "nbformat_minor": 2
}
