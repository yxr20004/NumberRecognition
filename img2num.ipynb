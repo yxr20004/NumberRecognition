{
 "cells": [
  {
   "cell_type": "code",
   "execution_count": 7,
   "metadata": {
    "collapsed": true
   },
   "outputs": [],
   "source": [
    "import numpy as np\n",
    "import matplotlib.pyplot as plt\n",
    "from PIL import Image"
   ]
  },
  {
   "cell_type": "code",
   "execution_count": 8,
   "metadata": {
    "collapsed": true
   },
   "outputs": [],
   "source": [
    "w = 60#360\n",
    "h = 80#178\n",
    "ws = 150\n",
    "hs = 49\n",
    "box  = [\n",
    "    [ws,hs+1353, w, h],\n",
    "    [ws,hs+1531, w, h],\n",
    "    [ws,hs+1711, w, h],\n",
    "#     [ws,hs+1888, w, h],\n",
    "    \n",
    "    [ws+361,hs+1353, w, h],\n",
    "    [ws+361,hs+1531, w, h],\n",
    "    [ws+361,hs+1711, w, h],\n",
    "    [ws+361,hs+1888, w, h],\n",
    "    \n",
    "    [ws+721,hs+1353, w, h],\n",
    "    [ws+721,hs+1531, w, h],\n",
    "    [ws+721,hs+1711, w, h],\n",
    "#     [ws+721,hs+1888, w, h],\n",
    "\n",
    "    \n",
    "]\n",
    "def display(name):\n",
    "    img = Image.open(name)\n",
    "    plt.axis('off')\n",
    "    plt.subplot(121)\n",
    "    plt.imshow(img)\n",
    "    for i in range(len(box)):\n",
    "        plt.gca().add_patch(plt.Rectangle((box[i][0],box[i][1]),box[i][2],box[i][3]))\n",
    "#     rect = plt.Rectangle((0,168),198,83)\n",
    "#     rect = plt.Rectangle((0.1,0.1),0.5,0.3)\n",
    "#     ax.add_patch(rect)\n",
    "#     plt.gca().add_patch(plt.Rectangle((0,1353),360,178))\n",
    "#     plt.gca().add_patch(plt.Rectangle((361,1353),360,178))\n",
    "#     plt.gca().add_patch(plt.Rectangle((721,1353),360,178))\n",
    "#     plt.gca().add_patch(plt.Rectangle((0,1531),360,178))\n",
    "#     plt.gca().add_patch(plt.Rectangle((721,1711),360,178))\n",
    "#     plt.gca().add_patch(plt.Rectangle((361,1888),360,178))\n",
    "    plt.show()"
   ]
  },
  {
   "cell_type": "code",
   "execution_count": 9,
   "metadata": {
    "collapsed": true
   },
   "outputs": [],
   "source": [
    "def getNumImg(name):\n",
    "    img = Image.open(name)\n",
    "\n",
    "    \n",
    "    for i in range(len(box)):\n",
    "        b = (box[i][0], box[i][1], box[i][0]+box[i][2], box[i][1]+box[i][3])\n",
    "        roi = img.crop(b)\n",
    "        roi.save('num/' + str(i) + '.png')"
   ]
  },
  {
   "cell_type": "code",
   "execution_count": 13,
   "metadata": {
    "collapsed": true
   },
   "outputs": [],
   "source": [
    "# display('images/002.png')\n",
    "# getNumImg('images/002.png')\n",
    "# getNumImg('images/008.png')\n",
    "# getNumImg('images/013.png')\n",
    "getNumImg('images/006.png')\n",
    "\n"
   ]
  },
  {
   "cell_type": "code",
   "execution_count": null,
   "metadata": {
    "collapsed": true
   },
   "outputs": [],
   "source": []
  },
  {
   "cell_type": "code",
   "execution_count": null,
   "metadata": {
    "collapsed": true
   },
   "outputs": [],
   "source": []
  }
 ],
 "metadata": {
  "kernelspec": {
   "display_name": "Python 3",
   "language": "python",
   "name": "python3"
  },
  "language_info": {
   "codemirror_mode": {
    "name": "ipython",
    "version": 3
   },
   "file_extension": ".py",
   "mimetype": "text/x-python",
   "name": "python",
   "nbconvert_exporter": "python",
   "pygments_lexer": "ipython3",
   "version": "3.6.3"
  }
 },
 "nbformat": 4,
 "nbformat_minor": 2
}
